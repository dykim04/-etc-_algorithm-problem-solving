{
 "cells": [
  {
   "cell_type": "code",
   "execution_count": 2,
   "metadata": {},
   "outputs": [
    {
     "name": "stdout",
     "output_type": "stream",
     "text": [
      "1\n",
      "2\n",
      "3\n"
     ]
    }
   ],
   "source": [
    "for i in range(1,4):\n",
    "    print(i)"
   ]
  },
  {
   "cell_type": "code",
   "execution_count": 13,
   "metadata": {},
   "outputs": [
    {
     "data": {
      "text/plain": [
       "(0, 3)"
      ]
     },
     "execution_count": 13,
     "metadata": {},
     "output_type": "execute_result"
    }
   ],
   "source": [
    "def compareTriplets(a, b):\n",
    "    # Write your code here\n",
    "    alice = 0\n",
    "    bob = 0\n",
    "    \n",
    "    for i in range(0,3):\n",
    "        if a[i] > b[i]:\n",
    "            alice += 1\n",
    "        elif a[i] == b[i]:\n",
    "            alice += 0\n",
    "            bob += 0\n",
    "        else:\n",
    "            bob += 1\n",
    "    return alice, bob\n",
    "    \n",
    "compareTriplets((1,2,3),(4,5,6))"
   ]
  }
 ],
 "metadata": {
  "kernelspec": {
   "display_name": "Python 3.10.0 64-bit",
   "language": "python",
   "name": "python3"
  },
  "language_info": {
   "codemirror_mode": {
    "name": "ipython",
    "version": 3
   },
   "file_extension": ".py",
   "mimetype": "text/x-python",
   "name": "python",
   "nbconvert_exporter": "python",
   "pygments_lexer": "ipython3",
   "version": "3.10.0"
  },
  "orig_nbformat": 4,
  "vscode": {
   "interpreter": {
    "hash": "4889f6b7e88051642b0063f87be6ae020a287b021416febcbfe89d4183b1cbca"
   }
  }
 },
 "nbformat": 4,
 "nbformat_minor": 2
}
